{
 "cells": [
  {
   "cell_type": "code",
   "execution_count": 2,
   "metadata": {
    "collapsed": true
   },
   "outputs": [],
   "source": [
    "import numpy as np\n",
    "import matplotlib.pyplot as plt\n",
    "%matplotlib inline"
   ]
  },
  {
   "cell_type": "markdown",
   "source": [],
   "metadata": {
    "collapsed": false
   }
  },
  {
   "cell_type": "code",
   "execution_count": 3,
   "outputs": [],
   "source": [
    "def y_newt(i, k, xs, ys) -> float:\n",
    "    \"\"\"\n",
    "    Args:\n",
    "        i: индекс узла\n",
    "        k: порядок\n",
    "        xs: массив иксов\n",
    "        ys: массив игреков\n",
    "\n",
    "    Returns:\n",
    "        значение функции y\n",
    "    \"\"\"\n",
    "    if i+k >= len(xs):\n",
    "        return 0\n",
    "    elif k == 0:\n",
    "        return ys[i]\n",
    "    else:\n",
    "        return (y_newt(i+1, k-1, xs, ys)-y_newt(i, k-1, xs, ys))/(xs[i+k]-xs[i])"
   ],
   "metadata": {
    "collapsed": false,
    "pycharm": {
     "name": "#%%\n"
    }
   }
  },
  {
   "cell_type": "code",
   "execution_count": 5,
   "outputs": [],
   "source": [
    "def y_herm( j, k, zs, ys, ys_der ):\n",
    "    #If k+j>N\n",
    "    if j+k>=len(zs):\n",
    "        return 0\n",
    "    elif k == 0:\n",
    "        return ys[j/2]\n",
    "    elif k == 1 and j%2 == 0:\n",
    "        return ys_der[j/2]\n",
    "    else:\n",
    "        return (y_herm(j+1, k-1, zs, ys, ys_der)-y_herm(j, k-1, zs, ys, ys_der))/(zs[j+k]-zs[j])"
   ],
   "metadata": {
    "collapsed": false,
    "pycharm": {
     "name": "#%%\n"
    }
   }
  },
  {
   "cell_type": "code",
   "execution_count": null,
   "outputs": [],
   "source": [
    "def lagrange( x, xs, ys ):\n",
    "    n = len(xs)\n",
    "    lp = y_newt(0, 0, xs, ys)\n",
    "    for k in range(1, n):\n",
    "        lp += y_newt(0, k, xs, ys)*np.prod(x-xs[:k])\n",
    "    return lp"
   ],
   "metadata": {
    "collapsed": false,
    "pycharm": {
     "name": "#%%\n"
    }
   }
  },
  {
   "cell_type": "code",
   "execution_count": null,
   "outputs": [],
   "source": [
    "def hermite(x, xs, ys, ys_der):\n",
    "    n = len(xs)\n",
    "\n",
    "    zs = np.zeros(2 * len(xs))\n",
    "    zs[::2] = xs\n",
    "    zs[1::2] = xs\n",
    "\n",
    "    hp = y_herm(0, 0, xs, ys, ys_der)\n",
    "    for k in range(1, 2*n+2):\n",
    "        hp += y_herm(0, k, zs, ys, ys_der) * np.prod(x - zs[:k])"
   ],
   "metadata": {
    "collapsed": false,
    "pycharm": {
     "name": "#%%\n"
    }
   }
  },
  {
   "cell_type": "code",
   "execution_count": null,
   "outputs": [],
   "source": [],
   "metadata": {
    "collapsed": false,
    "pycharm": {
     "name": "#%%\n"
    }
   }
  }
 ],
 "metadata": {
  "kernelspec": {
   "display_name": "Python 3",
   "language": "python",
   "name": "python3"
  },
  "language_info": {
   "codemirror_mode": {
    "name": "ipython",
    "version": 2
   },
   "file_extension": ".py",
   "mimetype": "text/x-python",
   "name": "python",
   "nbconvert_exporter": "python",
   "pygments_lexer": "ipython2",
   "version": "2.7.6"
  }
 },
 "nbformat": 4,
 "nbformat_minor": 0
}