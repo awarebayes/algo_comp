{
 "cells": [
  {
   "cell_type": "code",
   "execution_count": 3,
   "metadata": {},
   "outputs": [],
   "source": [
    "import numpy as np\n",
    "from matplotlib import pyplot as plt\n",
    "import pandas as pd\n",
    "from numba import njit\n",
    "\n",
    "%matplotlib inline"
   ]
  },
  {
   "cell_type": "markdown",
   "metadata": {},
   "source": [
    "## Исходная функция"
   ]
  },
  {
   "cell_type": "code",
   "execution_count": 4,
   "metadata": {},
   "outputs": [
    {
     "data": {
      "text/plain": "      x         y       y`\n0  0.00  1.000000 -1.00000\n1  0.15  0.838771 -1.14944\n2  0.30  0.655336 -1.29552\n3  0.45  0.450447 -1.43497\n4  0.60  0.225336 -1.56464\n5  0.75 -0.018310 -1.68164\n6  0.90 -0.278390 -1.78333\n7  1.05 -0.552430 -1.86742",
      "text/html": "<div>\n<style scoped>\n    .dataframe tbody tr th:only-of-type {\n        vertical-align: middle;\n    }\n\n    .dataframe tbody tr th {\n        vertical-align: top;\n    }\n\n    .dataframe thead th {\n        text-align: right;\n    }\n</style>\n<table border=\"1\" class=\"dataframe\">\n  <thead>\n    <tr style=\"text-align: right;\">\n      <th></th>\n      <th>x</th>\n      <th>y</th>\n      <th>y`</th>\n    </tr>\n  </thead>\n  <tbody>\n    <tr>\n      <th>0</th>\n      <td>0.00</td>\n      <td>1.000000</td>\n      <td>-1.00000</td>\n    </tr>\n    <tr>\n      <th>1</th>\n      <td>0.15</td>\n      <td>0.838771</td>\n      <td>-1.14944</td>\n    </tr>\n    <tr>\n      <th>2</th>\n      <td>0.30</td>\n      <td>0.655336</td>\n      <td>-1.29552</td>\n    </tr>\n    <tr>\n      <th>3</th>\n      <td>0.45</td>\n      <td>0.450447</td>\n      <td>-1.43497</td>\n    </tr>\n    <tr>\n      <th>4</th>\n      <td>0.60</td>\n      <td>0.225336</td>\n      <td>-1.56464</td>\n    </tr>\n    <tr>\n      <th>5</th>\n      <td>0.75</td>\n      <td>-0.018310</td>\n      <td>-1.68164</td>\n    </tr>\n    <tr>\n      <th>6</th>\n      <td>0.90</td>\n      <td>-0.278390</td>\n      <td>-1.78333</td>\n    </tr>\n    <tr>\n      <th>7</th>\n      <td>1.05</td>\n      <td>-0.552430</td>\n      <td>-1.86742</td>\n    </tr>\n  </tbody>\n</table>\n</div>"
     },
     "execution_count": 4,
     "metadata": {},
     "output_type": "execute_result"
    }
   ],
   "source": [
    "df = pd.DataFrame({\n",
    "    'x': np.arange(0, 1.05, 0.15),\n",
    "    'y': [1.000000, 0.838771, 0.655336, 0.450447, 0.225336, -0.018310, -0.278390, -0.552430],\n",
    "    'y`': [-1.000000, -1.14944, -1.29552, -1.43497, -1.56464, -1.68164, -1.78333, -1.86742],\n",
    "})\n",
    "\n",
    "df"
   ]
  },
  {
   "cell_type": "code",
   "execution_count": 82,
   "metadata": {},
   "outputs": [
    {
     "data": {
      "text/plain": "<Figure size 432x288 with 1 Axes>",
      "image/png": "[encoded data removed]"
     },
     "metadata": {
      "needs_background": "light"
     },
     "output_type": "display_data"
    }
   ],
   "source": [
    "plt.plot(df['x'], df['y'], label='y')\n",
    "# plt.plot(df['x'], df['y`'], label='y`')\n",
    "plt.legend()\n",
    "plt.show()"
   ]
  },
  {
   "cell_type": "markdown",
   "metadata": {},
   "source": [
    "## Newton"
   ]
  },
  {
   "cell_type": "code",
   "execution_count": 83,
   "metadata": {},
   "outputs": [],
   "source": [
    "def y(zs, xs, ys, cache):\n",
    "    \"\"\"\n",
    "    Вычисление функции y.\n",
    "    Params:\n",
    "        zs: агрументы y(z1, z2, ..., zn)\n",
    "        xs: аргументы исходной функции\n",
    "        ys: значения исзодной функции\n",
    "    Returns:\n",
    "        значение функции y(z1, z2, ..., zn)\n",
    "    \"\"\"\n",
    "    if len(zs) == 1:\n",
    "        point = zs[0]\n",
    "        index = xs.index(point)\n",
    "        return ys[index]\n",
    "    else:\n",
    "        if zs in cache:\n",
    "            return cache[zs]\n",
    "        starting_points, end = zs[:-1], zs[-1]\n",
    "        start, ending_points = zs[0], zs[1:]\n",
    "        res = (y(starting_points, xs, ys, cache) - y(ending_points, xs, ys, cache)) / (start - end)\n",
    "        cache[zs] = res\n",
    "        return res\n",
    "    "
   ]
  },
  {
   "cell_type": "code",
   "execution_count": 84,
   "metadata": {},
   "outputs": [],
   "source": [
    "def newton(x, n, xs, ys):\n",
    "    \"\"\"\n",
    "    Params:\n",
    "        x: точка в которой ищем значение\n",
    "        n: степерь полинома\n",
    "        xs: подмножество аргуметов x, значения которых мы имеем\n",
    "    Returns:\n",
    "        Значение y в искомой точке\n",
    "    \"\"\"\n",
    "    x_0 = (xs[0], )\n",
    "    cache = {}\n",
    "    result = y(x_0, xs, ys, cache)\n",
    "    for k in range(1, n):\n",
    "        product = 1\n",
    "        for x_i in xs[0:k]:\n",
    "            product *= (x - x_i)\n",
    "\n",
    "        y_res = y(tuple(xs[0:k+1]), xs, ys, cache)\n",
    "        product *= y_res\n",
    "        result += product\n",
    "    return result\n"
   ]
  },
  {
   "cell_type": "code",
   "execution_count": 91,
   "outputs": [
    {
     "data": {
      "text/plain": "0.0"
     },
     "execution_count": 91,
     "metadata": {},
     "output_type": "execute_result"
    }
   ],
   "source": [
    "df['x'].min()"
   ],
   "metadata": {
    "collapsed": false,
    "pycharm": {
     "name": "#%%\n"
    }
   }
  },
  {
   "cell_type": "code",
   "execution_count": 85,
   "metadata": {},
   "outputs": [
    {
     "data": {
      "text/plain": "       x  n    newton\n0  0.525  1  1.000000\n1  0.525  2  0.435699\n2  0.525  3  0.338547\n3  0.525  4  0.340192\n4  0.525  5  0.340323\n5  0.525  6  0.340324",
      "text/html": "<div>\n<style scoped>\n    .dataframe tbody tr th:only-of-type {\n        vertical-align: middle;\n    }\n\n    .dataframe tbody tr th {\n        vertical-align: top;\n    }\n\n    .dataframe thead th {\n        text-align: right;\n    }\n</style>\n<table border=\"1\" class=\"dataframe\">\n  <thead>\n    <tr style=\"text-align: right;\">\n      <th></th>\n      <th>x</th>\n      <th>n</th>\n      <th>newton</th>\n    </tr>\n  </thead>\n  <tbody>\n    <tr>\n      <th>0</th>\n      <td>0.525</td>\n      <td>1</td>\n      <td>1.000000</td>\n    </tr>\n    <tr>\n      <th>1</th>\n      <td>0.525</td>\n      <td>2</td>\n      <td>0.435699</td>\n    </tr>\n    <tr>\n      <th>2</th>\n      <td>0.525</td>\n      <td>3</td>\n      <td>0.338547</td>\n    </tr>\n    <tr>\n      <th>3</th>\n      <td>0.525</td>\n      <td>4</td>\n      <td>0.340192</td>\n    </tr>\n    <tr>\n      <th>4</th>\n      <td>0.525</td>\n      <td>5</td>\n      <td>0.340323</td>\n    </tr>\n    <tr>\n      <th>5</th>\n      <td>0.525</td>\n      <td>6</td>\n      <td>0.340324</td>\n    </tr>\n  </tbody>\n</table>\n</div>"
     },
     "execution_count": 85,
     "metadata": {},
     "output_type": "execute_result"
    }
   ],
   "source": [
    "x_0 = 0.525\n",
    "comparison = {\"x\": [], \"n\": [], \"newton\":[]}\n",
    "\n",
    "for n in range(1, 7):\n",
    "    result = newton(x_0, n, df['x'].to_list(), df['y'].to_list())\n",
    "    comparison['x'].append(x_0)\n",
    "    comparison['n'].append(n)\n",
    "    comparison['newton'].append(result)\n",
    "\n",
    "comparison = pd.DataFrame(comparison)\n",
    "comparison"
   ]
  },
  {
   "cell_type": "code",
   "execution_count": 86,
   "metadata": {},
   "outputs": [
    {
     "data": {
      "text/plain": "<Figure size 432x288 with 1 Axes>",
      "image/png": "[encoded data removed]"
     },
     "metadata": {
      "needs_background": "light"
     },
     "output_type": "display_data"
    }
   ],
   "source": [
    "plt.plot(df['x'], df['y'], label='y')\n",
    "plt.scatter(comparison['x'], comparison['newton'], c=comparison['n'])\n",
    "plt.legend()\n",
    "plt.show()"
   ]
  },
  {
   "cell_type": "markdown",
   "metadata": {},
   "source": [
    "## Hermite"
   ]
  },
  {
   "cell_type": "code",
   "execution_count": 87,
   "outputs": [],
   "source": [
    "LOOKUP_TABLE = np.array([\n",
    "    1, 1, 2, 6, 24, 120, 720, 5040, 40320,\n",
    "    362880, 3628800, 39916800, 479001600,\n",
    "    6227020800, 87178291200, 1307674368000,\n",
    "    20922789888000, 355687428096000, 6402373705728000,\n",
    "    121645100408832000, 2432902008176640000], dtype='int64')\n",
    "\n",
    "@njit\n",
    "def fast_factorial(n):\n",
    "    if n > 20:\n",
    "        raise ValueError\n",
    "    return LOOKUP_TABLE[n]"
   ],
   "metadata": {
    "collapsed": false,
    "pycharm": {
     "name": "#%%\n"
    }
   }
  },
  {
   "cell_type": "code",
   "execution_count": 89,
   "outputs": [
    {
     "data": {
      "text/plain": "       x  n   hermite\n0  0.525  0  0.340324",
      "text/html": "<div>\n<style scoped>\n    .dataframe tbody tr th:only-of-type {\n        vertical-align: middle;\n    }\n\n    .dataframe tbody tr th {\n        vertical-align: top;\n    }\n\n    .dataframe thead th {\n        text-align: right;\n    }\n</style>\n<table border=\"1\" class=\"dataframe\">\n  <thead>\n    <tr style=\"text-align: right;\">\n      <th></th>\n      <th>x</th>\n      <th>n</th>\n      <th>hermite</th>\n    </tr>\n  </thead>\n  <tbody>\n    <tr>\n      <th>0</th>\n      <td>0.525</td>\n      <td>0</td>\n      <td>0.340324</td>\n    </tr>\n  </tbody>\n</table>\n</div>"
     },
     "execution_count": 89,
     "metadata": {},
     "output_type": "execute_result"
    }
   ],
   "source": [
    "@njit\n",
    "def is_derivative(zs):\n",
    "    for z in zs:\n",
    "        if abs(z - zs[0]) > 0.001:\n",
    "            return False\n",
    "    return True\n",
    "\n",
    "@njit\n",
    "def look_up_derivative(zs, xs, y_derivatives):\n",
    "    m = len(zs)\n",
    "    fact = fast_factorial(m-1)\n",
    "    index = xs.index(zs[0])\n",
    "    derivative = y_derivatives[m-1][index]\n",
    "    return derivative / fact\n",
    "\n",
    "\n",
    "def y_with_lookup(zs, xs, y_derivatives, cache):\n",
    "    \"\"\"\n",
    "    Вычисление функции y.\n",
    "    Params:\n",
    "        zs: агрументы y(z1, z2, ..., zn)\n",
    "        xs: аргументы исходной функции\n",
    "        ys: значения исзодной функции\n",
    "    Returns:\n",
    "        значение функции y(z1, z2, ..., zn)\n",
    "    \"\"\"\n",
    "    derivative_is_in_table = len(zs) <= y_derivatives.shape[0]\n",
    "    if is_derivative(zs) and derivative_is_in_table:\n",
    "        return look_up_derivative(zs, xs, y_derivatives)\n",
    "    else:\n",
    "\n",
    "        if zs in cache:\n",
    "            return cache[zs]\n",
    "\n",
    "        starting_points, end = zs[:-1], zs[-1]\n",
    "        start, ending_points = zs[0], zs[1:]\n",
    "        res = (y_with_lookup(starting_points, xs, y_derivatives, cache) -\n",
    "                y_with_lookup(ending_points, xs, y_derivatives, cache)) \\\n",
    "                / (start - end)\n",
    "        cache[zs] = res\n",
    "        return res\n",
    "\n",
    "def hermite(x, xs, y_derivatives):\n",
    "    n = y_derivatives.size - 1\n",
    "    x_0 = [xs[0]]\n",
    "    cache = dict()\n",
    "    result = y_with_lookup(tuple(x_0), xs, y_derivatives, cache)\n",
    "\n",
    "    for k in range(1, n):\n",
    "        product = 1\n",
    "        for x_i in xs[0:k]:\n",
    "            product *= (x - x_i)\n",
    "        product *= y_with_lookup(tuple(xs[0:k+1]), xs, y_derivatives, cache)\n",
    "        result += product\n",
    "    return result, cache\n",
    "\n",
    "\n",
    "x_0 = 0.525\n",
    "comparison = {\"x\": [], \"n\": [], \"hermite\":[]}\n",
    "y_derivatives = np.array([\n",
    "    df['y'],\n",
    "    df['y`']\n",
    "])\n",
    "\n",
    "result, cache = hermite(x_0, tuple(df['x']), y_derivatives)\n",
    "comparison['x'].append(x_0)\n",
    "comparison['n'].append(0)\n",
    "comparison['hermite'].append(result)\n",
    "\n",
    "comparison = pd.DataFrame(comparison)\n",
    "comparison"
   ],
   "metadata": {
    "collapsed": false,
    "pycharm": {
     "name": "#%%\n"
    }
   }
  },
  {
   "cell_type": "code",
   "execution_count": 14,
   "outputs": [
    {
     "data": {
      "text/plain": "array([0.  , 0.  , 0.  , 0.15, 0.15, 0.15, 0.3 , 0.3 , 0.3 , 0.45, 0.45,\n       0.45, 0.6 , 0.6 , 0.6 , 0.75, 0.75, 0.75, 0.9 , 0.9 , 0.9 , 1.05,\n       1.05, 1.05])"
     },
     "execution_count": 14,
     "metadata": {},
     "output_type": "execute_result"
    }
   ],
   "source": [
    "x = df['x'].values\n",
    "x = np.repeat(x, 3)\n",
    "x"
   ],
   "metadata": {
    "collapsed": false,
    "pycharm": {
     "name": "#%%\n"
    }
   }
  },
  {
   "cell_type": "code",
   "execution_count": 16,
   "metadata": {},
   "outputs": [],
   "source": [
    "y_derivatives = np.array([\n",
    "    df['y'].values.repeat(2),\n",
    "    df['y`'].values.repeat(2)\n",
    "])"
   ]
  },
  {
   "cell_type": "code",
   "execution_count": null,
   "outputs": [],
   "source": [],
   "metadata": {
    "collapsed": false,
    "pycharm": {
     "name": "#%%\n"
    }
   }
  }
 ],
 "metadata": {
  "interpreter": {
   "hash": "e7370f93d1d0cde622a1f8e1c04877d8463912d04d973331ad4851f04de6915a"
  },
  "kernelspec": {
   "display_name": "Python 3.9.9 64-bit",
   "language": "python",
   "name": "python3"
  },
  "language_info": {
   "codemirror_mode": {
    "name": "ipython",
    "version": 3
   },
   "file_extension": ".py",
   "mimetype": "text/x-python",
   "name": "python",
   "nbconvert_exporter": "python",
   "pygments_lexer": "ipython3",
   "version": "3.8.5"
  },
  "orig_nbformat": 4
 },
 "nbformat": 4,
 "nbformat_minor": 2
}