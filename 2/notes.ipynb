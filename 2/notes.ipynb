{
 "cells": [
  {
   "cell_type": "code",
   "execution_count": 1,
   "metadata": {
    "collapsed": true
   },
   "outputs": [],
   "source": [
    "import numpy as np\n",
    "\n",
    "def f(x, y, z):\n",
    "    return x**2 + y**2 + z"
   ]
  },
  {
   "cell_type": "code",
   "execution_count": 20,
   "outputs": [],
   "source": [
    "z, y, x = np.meshgrid(np.arange(0, 5, 1), np.arange(0, 5, 1), np.arange(0, 5, 1), indexing='ij')"
   ],
   "metadata": {
    "collapsed": false,
    "pycharm": {
     "name": "#%%\n"
    }
   }
  },
  {
   "cell_type": "code",
   "execution_count": 25,
   "outputs": [
    {
     "data": {
      "text/plain": "array([[[ 0,  1,  4,  9, 16],\n        [ 1,  2,  5, 10, 17],\n        [ 4,  5,  8, 13, 20],\n        [ 9, 10, 13, 18, 25],\n        [16, 17, 20, 25, 32]],\n\n       [[ 1,  2,  5, 10, 17],\n        [ 2,  3,  6, 11, 18],\n        [ 5,  6,  9, 14, 21],\n        [10, 11, 14, 19, 26],\n        [17, 18, 21, 26, 33]],\n\n       [[ 2,  3,  6, 11, 18],\n        [ 3,  4,  7, 12, 19],\n        [ 6,  7, 10, 15, 22],\n        [11, 12, 15, 20, 27],\n        [18, 19, 22, 27, 34]],\n\n       [[ 3,  4,  7, 12, 19],\n        [ 4,  5,  8, 13, 20],\n        [ 7,  8, 11, 16, 23],\n        [12, 13, 16, 21, 28],\n        [19, 20, 23, 28, 35]],\n\n       [[ 4,  5,  8, 13, 20],\n        [ 5,  6,  9, 14, 21],\n        [ 8,  9, 12, 17, 24],\n        [13, 14, 17, 22, 29],\n        [20, 21, 24, 29, 36]]])"
     },
     "execution_count": 25,
     "metadata": {},
     "output_type": "execute_result"
    }
   ],
   "source": [
    "f(x, y, z)"
   ],
   "metadata": {
    "collapsed": false,
    "pycharm": {
     "name": "#%%\n"
    }
   }
  },
  {
   "cell_type": "code",
   "execution_count": null,
   "outputs": [],
   "source": [],
   "metadata": {
    "collapsed": false,
    "pycharm": {
     "name": "#%%\n"
    }
   }
  }
 ],
 "metadata": {
  "kernelspec": {
   "display_name": "Python 3",
   "language": "python",
   "name": "python3"
  },
  "language_info": {
   "codemirror_mode": {
    "name": "ipython",
    "version": 2
   },
   "file_extension": ".py",
   "mimetype": "text/x-python",
   "name": "python",
   "nbconvert_exporter": "python",
   "pygments_lexer": "ipython2",
   "version": "2.7.6"
  }
 },
 "nbformat": 4,
 "nbformat_minor": 0
}