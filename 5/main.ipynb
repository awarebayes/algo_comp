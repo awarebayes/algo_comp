{
 "cells": [
  {
   "cell_type": "code",
   "execution_count": 107,
   "metadata": {
    "collapsed": true
   },
   "outputs": [],
   "source": [
    "from sympy import symbols\n",
    "import sympy as sp\n",
    "import numpy as np\n",
    "from matplotlib import pyplot as plt"
   ]
  },
  {
   "cell_type": "code",
   "execution_count": 108,
   "outputs": [],
   "source": [
    "a_1 = 0.0134\n",
    "b_1 = 1\n",
    "c_1 = 4.35 * 10e-4\n",
    "m_1 = 1\n",
    "alpha_0 = 1.94 * 10e-2\n",
    "delta = 1.5 * 10e3\n",
    "gamma = 0.2 * 10e-2\n",
    "l = 10\n",
    "T_0 = 300\n",
    "R = 0.5\n",
    "F_0 = 50\n",
    "X = sp.Symbol('x')\n",
    "T = sp.Function('T')(X)\n",
    "y_i_prev, y_i, y_i_next = symbols('y_{i-1}, y_i, y_{i+1}')"
   ],
   "metadata": {
    "collapsed": false,
    "pycharm": {
     "name": "#%%\n"
    }
   }
  },
  {
   "cell_type": "code",
   "execution_count": 109,
   "outputs": [],
   "source": [
    "alpha = alpha_0 * (y_i / delta - 1) ** 4 + gamma\n",
    "p = 2 / R * alpha\n",
    "f = 2 * T_0 / R * alpha\n",
    "k = a_1 * (b_1 + c_1 * y_i ** m_1)\n",
    "k_prev = k.subs(y_i, y_i_prev)\n",
    "k_next = k.subs(y_i, y_i_next)\n",
    "# F = - k * sp.diff(T, X)"
   ],
   "metadata": {
    "collapsed": false,
    "pycharm": {
     "name": "#%%\n"
    }
   }
  },
  {
   "cell_type": "code",
   "execution_count": 110,
   "outputs": [
    {
     "data": {
      "text/plain": "(0.194*(6.66666666666667e-5*y_i - 1)**4 + 0.02,\n 0.776*(6.66666666666667e-5*y_i - 1)**4 + 0.08,\n 232.8*(6.66666666666667e-5*y_i - 1)**4 + 24.0,\n 5.829e-5*y_i + 0.0134)"
     },
     "execution_count": 110,
     "metadata": {},
     "output_type": "execute_result"
    }
   ],
   "source": [
    "alpha, p, f, k"
   ],
   "metadata": {
    "collapsed": false,
    "pycharm": {
     "name": "#%%\n"
    }
   }
  },
  {
   "cell_type": "code",
   "execution_count": 111,
   "outputs": [
    {
     "data": {
      "text/plain": "5.829e-5*y_{i-1} + 0.0134",
      "text/latex": "$\\displaystyle 5.829 \\cdot 10^{-5} y_{i-1} + 0.0134$"
     },
     "execution_count": 111,
     "metadata": {},
     "output_type": "execute_result"
    }
   ],
   "source": [
    "k_prev"
   ],
   "metadata": {
    "collapsed": false,
    "pycharm": {
     "name": "#%%\n"
    }
   }
  },
  {
   "cell_type": "code",
   "execution_count": 112,
   "outputs": [],
   "source": [
    "n = 100\n",
    "h = l / n\n",
    "x = np.linspace(0, l, n+1, endpoint=True)\n",
    "y = np.full_like(x, T_0)"
   ],
   "metadata": {
    "collapsed": false,
    "pycharm": {
     "name": "#%%\n"
    }
   }
  },
  {
   "cell_type": "code",
   "execution_count": 113,
   "outputs": [],
   "source": [
    "def eval_sp(func, i):\n",
    "    func = func.subs(y_i, y[i]).subs(y_i_prev, y[i-1])\n",
    "    if i < n:\n",
    "        func = func.subs(y_i_next, y[i+1])\n",
    "    return func"
   ],
   "metadata": {
    "collapsed": false,
    "pycharm": {
     "name": "#%%\n"
    }
   }
  },
  {
   "cell_type": "code",
   "execution_count": 114,
   "outputs": [],
   "source": [
    "def get_a_i(i):\n",
    "    if i == 0:\n",
    "        return sp.Float(0)\n",
    "    return (k_prev + k) / 2\n",
    "\n",
    "def get_b_i(i):\n",
    "    if i == 0:\n",
    "        return (k + k_next) / 2\n",
    "    if i == n:\n",
    "        return (k_prev + k) / 2 + p * h ** 2 + alpha * h\n",
    "    return (k_prev + k) / 2 + (k + k_next) / 2 + p * h ** 2\n",
    "\n",
    "def get_c_i(i):\n",
    "    if i == 0:\n",
    "        return (k + k_next) / 2\n",
    "    if i == n:\n",
    "        return sp.Float(0)\n",
    "    return (k + k_next) / 2\n",
    "\n",
    "def get_d_i(i):\n",
    "    if i == 0:\n",
    "        return f * h ** 2 + F_0 * h\n",
    "    if i == n:\n",
    "        return f * h ** 2 + alpha * T_0 * h\n",
    "    return f * h ** 2"
   ],
   "metadata": {
    "collapsed": false,
    "pycharm": {
     "name": "#%%\n"
    }
   }
  },
  {
   "cell_type": "code",
   "execution_count": 115,
   "outputs": [],
   "source": [
    "A_prime = np.zeros_like(x)\n",
    "B_prime = np.zeros_like(x)\n",
    "C_prime = np.zeros_like(x)\n",
    "D_prime = np.zeros_like(x)"
   ],
   "metadata": {
    "collapsed": false,
    "pycharm": {
     "name": "#%%\n"
    }
   }
  },
  {
   "cell_type": "code",
   "execution_count": 121,
   "outputs": [
    {
     "name": "stdout",
     "output_type": "stream",
     "text": [
      "-5.829e-5*y_{i+1} - 0.0134\n",
      "-5.829e-5*y_{i+1} - 0.0134\n",
      "-5.829e-5*y_{i+1} - 0.0134\n",
      "-5.829e-5*y_{i+1} - 0.0134\n",
      "-5.829e-5*y_{i+1} - 0.0134\n",
      "-5.829e-5*y_{i+1} - 0.0134\n",
      "-5.829e-5*y_{i+1} - 0.0134\n",
      "-5.829e-5*y_{i+1} - 0.0134\n",
      "-5.829e-5*y_{i+1} - 0.0134\n",
      "-5.829e-5*y_{i+1} - 0.0134\n",
      "-5.829e-5*y_{i+1} - 0.0134\n",
      "-5.829e-5*y_{i+1} - 0.0134\n",
      "-5.829e-5*y_{i+1} - 0.0134\n",
      "-5.829e-5*y_{i+1} - 0.0134\n",
      "-5.829e-5*y_{i+1} - 0.0134\n",
      "-5.829e-5*y_{i+1} - 0.0134\n",
      "-5.829e-5*y_{i+1} - 0.0134\n",
      "-5.829e-5*y_{i+1} - 0.0134\n",
      "-5.829e-5*y_{i+1} - 0.0134\n",
      "-5.829e-5*y_{i+1} - 0.0134\n",
      "-5.829e-5*y_{i+1} - 0.0134\n",
      "-5.829e-5*y_{i+1} - 0.0134\n",
      "-5.829e-5*y_{i+1} - 0.0134\n",
      "-5.829e-5*y_{i+1} - 0.0134\n",
      "-5.829e-5*y_{i+1} - 0.0134\n",
      "-5.829e-5*y_{i+1} - 0.0134\n",
      "-5.829e-5*y_{i+1} - 0.0134\n",
      "-5.829e-5*y_{i+1} - 0.0134\n",
      "-5.829e-5*y_{i+1} - 0.0134\n",
      "-5.829e-5*y_{i+1} - 0.0134\n",
      "-5.829e-5*y_{i+1} - 0.0134\n",
      "-5.829e-5*y_{i+1} - 0.0134\n",
      "-5.829e-5*y_{i+1} - 0.0134\n",
      "-5.829e-5*y_{i+1} - 0.0134\n",
      "-5.829e-5*y_{i+1} - 0.0134\n",
      "-5.829e-5*y_{i+1} - 0.0134\n",
      "-5.829e-5*y_{i+1} - 0.0134\n",
      "-5.829e-5*y_{i+1} - 0.0134\n",
      "-5.829e-5*y_{i+1} - 0.0134\n",
      "-5.829e-5*y_{i+1} - 0.0134\n",
      "-5.829e-5*y_{i+1} - 0.0134\n",
      "-5.829e-5*y_{i+1} - 0.0134\n",
      "-5.829e-5*y_{i+1} - 0.0134\n",
      "-5.829e-5*y_{i+1} - 0.0134\n",
      "-5.829e-5*y_{i+1} - 0.0134\n",
      "-5.829e-5*y_{i+1} - 0.0134\n",
      "-5.829e-5*y_{i+1} - 0.0134\n",
      "-5.829e-5*y_{i+1} - 0.0134\n",
      "-5.829e-5*y_{i+1} - 0.0134\n",
      "-5.829e-5*y_{i+1} - 0.0134\n",
      "-5.829e-5*y_{i+1} - 0.0134\n",
      "-5.829e-5*y_{i+1} - 0.0134\n",
      "-5.829e-5*y_{i+1} - 0.0134\n",
      "-5.829e-5*y_{i+1} - 0.0134\n",
      "-5.829e-5*y_{i+1} - 0.0134\n",
      "-5.829e-5*y_{i+1} - 0.0134\n",
      "-5.829e-5*y_{i+1} - 0.0134\n",
      "-5.829e-5*y_{i+1} - 0.0134\n",
      "-5.829e-5*y_{i+1} - 0.0134\n",
      "-5.829e-5*y_{i+1} - 0.0134\n",
      "-5.829e-5*y_{i+1} - 0.0134\n",
      "-5.829e-5*y_{i+1} - 0.0134\n",
      "-5.829e-5*y_{i+1} - 0.0134\n",
      "-5.829e-5*y_{i+1} - 0.0134\n",
      "-5.829e-5*y_{i+1} - 0.0134\n",
      "-5.829e-5*y_{i+1} - 0.0134\n",
      "-5.829e-5*y_{i+1} - 0.0134\n",
      "-5.829e-5*y_{i+1} - 0.0134\n",
      "-5.829e-5*y_{i+1} - 0.0134\n",
      "-5.829e-5*y_{i+1} - 0.0134\n",
      "-5.829e-5*y_{i+1} - 0.0134\n",
      "-5.829e-5*y_{i+1} - 0.0134\n",
      "-5.829e-5*y_{i+1} - 0.0134\n",
      "-5.829e-5*y_{i+1} - 0.0134\n",
      "-5.829e-5*y_{i+1} - 0.0134\n",
      "-5.829e-5*y_{i+1} - 0.0134\n",
      "-5.829e-5*y_{i+1} - 0.0134\n",
      "-5.829e-5*y_{i+1} - 0.0134\n",
      "-5.829e-5*y_{i+1} - 0.0134\n",
      "-5.829e-5*y_{i+1} - 0.0134\n",
      "-5.829e-5*y_{i+1} - 0.0134\n",
      "-5.829e-5*y_{i+1} - 0.0134\n",
      "-5.829e-5*y_{i+1} - 0.0134\n",
      "-5.829e-5*y_{i+1} - 0.0134\n",
      "-5.829e-5*y_{i+1} - 0.0134\n",
      "-5.829e-5*y_{i+1} - 0.0134\n",
      "-5.829e-5*y_{i+1} - 0.0134\n",
      "-5.829e-5*y_{i+1} - 0.0134\n",
      "-5.829e-5*y_{i+1} - 0.0134\n",
      "-5.829e-5*y_{i+1} - 0.0134\n",
      "-5.829e-5*y_{i+1} - 0.0134\n",
      "-5.829e-5*y_{i+1} - 0.0134\n",
      "-5.829e-5*y_{i+1} - 0.0134\n",
      "-5.829e-5*y_{i+1} - 0.0134\n",
      "-5.829e-5*y_{i+1} - 0.0134\n",
      "-5.829e-5*y_{i+1} - 0.0134\n",
      "-5.829e-5*y_{i+1} - 0.0134\n",
      "-5.829e-5*y_{i+1} - 0.0134\n",
      "-5.829e-5*y_{i+1} - 0.0134\n",
      "-5.829e-5*y_{i+1} - 0.0134\n",
      "0\n"
     ]
    }
   ],
   "source": [
    "for i, x_i in enumerate(x):\n",
    "    A_i = get_a_i(i)\n",
    "    B_i = get_b_i(i)\n",
    "    C_i = get_c_i(i)\n",
    "    D_i = get_d_i(i)\n",
    "\n",
    "    G_i = A_i * y_i_prev + B_i * y_i - C_i * y_i_next + D_i\n",
    "\n",
    "    A_prime[i] = eval_sp(sp.diff(G_i, y_i_prev), i)\n",
    "    B_prime[i] = -eval_sp(sp.diff(G_i, y_i), i)\n",
    "    C_prime[i] = eval_sp(sp.diff(G_i, y_i_next), i)\n",
    "    D_prime[i] = eval_sp(G_i, i)\n",
    "    # посмотреть производные, можешь частные всякие посмотреть\n",
    "    print(sp.diff(G_i, y_i_next))\n",
    "\n",
    "eta = np.zeros_like(x)\n",
    "xi = np.zeros_like(x)\n",
    "delta_y = np.zeros_like(x)\n",
    "\n",
    "for i in range(1, n+1):\n",
    "    xi[i] = C_prime[i-1] / (B_prime[i-1] - A_prime[i-1] * xi[i-1])\n",
    "    eta[i] = (A_prime[i-1] * eta[-1] + D_prime[i-1]) / (B_prime[i-1] - A_prime[i-1] * xi[i-1])\n",
    "\n",
    "for i in reversed(range(1, n+1)):\n",
    "    if i == n:\n",
    "        delta_y[i] = (A_prime[n] * eta[n] + D_prime[n]) / (B_prime[n] - A_prime[n] * xi[n])\n",
    "    else:\n",
    "        delta_y[i] = xi[i+1] * delta_y[i+1] + eta[i+1]"
   ],
   "metadata": {
    "collapsed": false,
    "pycharm": {
     "name": "#%%\n"
    }
   }
  },
  {
   "cell_type": "code",
   "execution_count": 117,
   "outputs": [],
   "source": [
    "y_final = np.zeros_like(x)\n",
    "y_final[0] = F_0\n",
    "for i in range(1, n):\n",
    "    y_final[i] = y_final[i-1] + delta_y[i]"
   ],
   "metadata": {
    "collapsed": false,
    "pycharm": {
     "name": "#%%\n"
    }
   }
  },
  {
   "cell_type": "code",
   "execution_count": 118,
   "outputs": [
    {
     "data": {
      "text/plain": "[<matplotlib.lines.Line2D at 0x7fea45e661d0>]"
     },
     "execution_count": 118,
     "metadata": {},
     "output_type": "execute_result"
    },
    {
     "data": {
      "text/plain": "<Figure size 432x288 with 1 Axes>",
      "image/png": "[encoded data removed]"
     },
     "metadata": {
      "needs_background": "light"
     },
     "output_type": "display_data"
    }
   ],
   "source": [
    "plt.plot(delta_y)"
   ],
   "metadata": {
    "collapsed": false,
    "pycharm": {
     "name": "#%%\n"
    }
   }
  },
  {
   "cell_type": "code",
   "execution_count": 119,
   "outputs": [
    {
     "data": {
      "text/plain": "array([   0.        , -251.01341656, -345.4401456 , -331.25579367,\n       -333.33192643, -333.02686192, -333.0716622 , -333.0650825 ,\n       -333.06604883, -333.06590691, -333.06592775, -333.06592469,\n       -333.06592514, -333.06592507, -333.06592508, -333.06592508,\n       -333.06592508, -333.06592508, -333.06592508, -333.06592508,\n       -333.06592508, -333.06592508, -333.06592508, -333.06592508,\n       -333.06592508, -333.06592508, -333.06592508, -333.06592508,\n       -333.06592508, -333.06592508, -333.06592508, -333.06592508,\n       -333.06592508, -333.06592508, -333.06592508, -333.06592508,\n       -333.06592508, -333.06592508, -333.06592508, -333.06592508,\n       -333.06592508, -333.06592508, -333.06592508, -333.06592508,\n       -333.06592508, -333.06592508, -333.06592508, -333.06592508,\n       -333.06592508, -333.06592508, -333.06592508, -333.06592508,\n       -333.06592508, -333.06592508, -333.06592508, -333.06592508,\n       -333.06592508, -333.06592508, -333.06592508, -333.06592508,\n       -333.06592508, -333.06592508, -333.06592508, -333.06592508,\n       -333.06592508, -333.06592508, -333.06592508, -333.06592508,\n       -333.06592508, -333.06592508, -333.06592508, -333.06592508,\n       -333.06592508, -333.06592508, -333.06592508, -333.06592508,\n       -333.06592508, -333.06592508, -333.06592508, -333.06592508,\n       -333.06592508, -333.06592507, -333.06592505, -333.06592498,\n       -333.06592474, -333.06592398, -333.06592149, -333.06591336,\n       -333.0658868 , -333.06580008, -333.06551689, -333.0645921 ,\n       -333.06157216, -333.05171034, -333.01950597, -332.91434066,\n       -332.57091694, -331.44944592, -327.78721416, -315.82797384,\n       -276.7743479 ])"
     },
     "execution_count": 119,
     "metadata": {},
     "output_type": "execute_result"
    }
   ],
   "source": [
    "delta_y"
   ],
   "metadata": {
    "collapsed": false,
    "pycharm": {
     "name": "#%%\n"
    }
   }
  },
  {
   "cell_type": "code",
   "execution_count": 120,
   "outputs": [
    {
     "data": {
      "text/plain": "50"
     },
     "execution_count": 120,
     "metadata": {},
     "output_type": "execute_result"
    }
   ],
   "source": [
    "F_0"
   ],
   "metadata": {
    "collapsed": false,
    "pycharm": {
     "name": "#%%\n"
    }
   }
  },
  {
   "cell_type": "code",
   "execution_count": 120,
   "outputs": [],
   "source": [],
   "metadata": {
    "collapsed": false,
    "pycharm": {
     "name": "#%%\n"
    }
   }
  }
 ],
 "metadata": {
  "kernelspec": {
   "display_name": "Python 3",
   "language": "python",
   "name": "python3"
  },
  "language_info": {
   "codemirror_mode": {
    "name": "ipython",
    "version": 2
   },
   "file_extension": ".py",
   "mimetype": "text/x-python",
   "name": "python",
   "nbconvert_exporter": "python",
   "pygments_lexer": "ipython2",
   "version": "2.7.6"
  }
 },
 "nbformat": 4,
 "nbformat_minor": 0
}