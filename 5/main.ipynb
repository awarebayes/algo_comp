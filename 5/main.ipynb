{
 "cells": [
  {
   "cell_type": "code",
   "execution_count": 122,
   "metadata": {
    "collapsed": true
   },
   "outputs": [],
   "source": [
    "from sympy import symbols\n",
    "import sympy as sp\n",
    "import numpy as np\n",
    "from sympy.utilities.lambdify import lambdify, lambdastr\n",
    "from matplotlib import pyplot as plt\n",
    "from functools import cache"
   ]
  },
  {
   "cell_type": "code",
   "execution_count": 123,
   "metadata": {
    "collapsed": false,
    "pycharm": {
     "name": "#%%\n"
    }
   },
   "outputs": [],
   "source": [
    "a_1 = 0.0134\n",
    "b_1 = 1\n",
    "c_1 = 4.35 * 10e-4\n",
    "m_1 = 1\n",
    "alpha_0 = 1.94 * 10e-2\n",
    "delta = 1.5 * 10e3\n",
    "gamma = 0.2 * 10e-2\n",
    "l = 10\n",
    "T_0 = 300\n",
    "R = 0.5\n",
    "F_0 = 50\n",
    "X = sp.Symbol('x')\n",
    "T = sp.Function('T')(X)\n",
    "y_i_prev, y_i, y_i_next = symbols('y_p, y_i, y_n')"
   ]
  },
  {
   "cell_type": "code",
   "execution_count": 124,
   "metadata": {
    "collapsed": false,
    "pycharm": {
     "name": "#%%\n"
    }
   },
   "outputs": [],
   "source": [
    "alpha = alpha_0 * (y_i / delta - 1) ** 4 + gamma\n",
    "p = 2 / R * alpha\n",
    "f = 2 * T_0 / R * alpha\n",
    "k = a_1 * (b_1 + c_1 * y_i ** m_1)\n",
    "k_prev = k.subs(y_i, y_i_prev)\n",
    "k_next = k.subs(y_i, y_i_next)"
   ]
  },
  {
   "cell_type": "code",
   "execution_count": 125,
   "metadata": {
    "collapsed": false,
    "pycharm": {
     "name": "#%%\n"
    }
   },
   "outputs": [
    {
     "data": {
      "text/plain": [
       "(0.194*(6.66666666666667e-5*y_i - 1)**4 + 0.02,\n",
       " 0.776*(6.66666666666667e-5*y_i - 1)**4 + 0.08,\n",
       " 232.8*(6.66666666666667e-5*y_i - 1)**4 + 24.0,\n",
       " 5.829e-5*y_i + 0.0134)"
      ]
     },
     "execution_count": 125,
     "metadata": {},
     "output_type": "execute_result"
    }
   ],
   "source": [
    "alpha, p, f, k"
   ]
  },
  {
   "cell_type": "code",
   "execution_count": 126,
   "metadata": {
    "collapsed": false,
    "pycharm": {
     "name": "#%%\n"
    }
   },
   "outputs": [],
   "source": [
    "n = 100\n",
    "h = l / n\n",
    "x = np.linspace(0, l, n+1, endpoint=True)"
   ]
  },
  {
   "cell_type": "code",
   "execution_count": 127,
   "metadata": {
    "collapsed": false,
    "pycharm": {
     "name": "#%%\n"
    }
   },
   "outputs": [],
   "source": [
    "def get_a_i(i):\n",
    "    if i == 0:\n",
    "        return sp.Float(0)\n",
    "    return (k_prev + k) / 2\n",
    "\n",
    "def get_b_i(i):\n",
    "    if i == 0:\n",
    "        return (k + k_next) / 2\n",
    "    if i == n:\n",
    "        return (k_prev + k) / 2 + p * h ** 2 + alpha * h\n",
    "    return (k_prev + k) / 2 + (k + k_next) / 2 + p * h ** 2\n",
    "\n",
    "def get_c_i(i):\n",
    "    if i == 0:\n",
    "        return (k + k_next) / 2\n",
    "    if i == n:\n",
    "        return sp.Float(0)\n",
    "    return (k + k_next) / 2\n",
    "\n",
    "def get_d_i(i):\n",
    "    if i == 0:\n",
    "        return f * h ** 2 + F_0 * h\n",
    "    if i == n:\n",
    "        return f * h ** 2 + alpha * T_0 * h\n",
    "    return f * h ** 2"
   ]
  },
  {
   "cell_type": "code",
   "execution_count": 150,
   "metadata": {
    "collapsed": false,
    "pycharm": {
     "name": "#%%\n"
    }
   },
   "outputs": [],
   "source": [
    "y = np.full(n+2, T_0)\n",
    "A_prime = np.zeros_like(x)\n",
    "B_prime = np.zeros_like(x)\n",
    "C_prime = np.zeros_like(x)\n",
    "D_prime = np.zeros_like(x)\n",
    "A_lambdas = [None for i in range(n+1)]\n",
    "B_lambdas = [None for i in range(n+1)]\n",
    "C_lambdas = [None for i in range(n+1)]\n",
    "D_lambdas = [None for i in range(n+1)]\n",
    "lambdas = [A_lambdas, B_lambdas, C_lambdas, D_lambdas]"
   ]
  },
  {
   "cell_type": "code",
   "execution_count": 151,
   "metadata": {},
   "outputs": [],
   "source": [
    "def my_lambdify(func):\n",
    "    return lambdify([y_i_prev, y_i, y_i_next], func)"
   ]
  },
  {
   "cell_type": "code",
   "execution_count": 158,
   "metadata": {
    "collapsed": false,
    "pycharm": {
     "name": "#%%\n"
    }
   },
   "outputs": [],
   "source": [
    "prev_strings = [\"\", \"\", \"\", \"\"]\n",
    "for i, x_i in enumerate(x):\n",
    "    A_i = get_a_i(i)\n",
    "    B_i = get_b_i(i)\n",
    "    C_i = get_c_i(i)\n",
    "    D_i = get_d_i(i)\n",
    "\n",
    "    G_i = A_i * y_i_prev + B_i * y_i - C_i * y_i_next + D_i\n",
    "\n",
    "    A_func = sp.diff(G_i, y_i_prev)\n",
    "    B_func = -sp.diff(G_i, y_i)\n",
    "    C_func = sp.diff(G_i, y_i_next)\n",
    "    D_func = G_i\n",
    "    funcs = [A_func, B_func, C_func, D_func]\n",
    "\n",
    "    for j in range(4):\n",
    "        lamb_str = lambdastr([y_i_prev, y_i, y_i_next], funcs[j]) \n",
    "        if str == prev_strings[j]:\n",
    "            lambdas[j][i] = lambdas[j][i-1]\n",
    "        else:\n",
    "            lambdas[j][i] = my_lambdify(funcs[j])\n",
    "        prev_strings[j] = lamb_str"
   ]
  },
  {
   "cell_type": "code",
   "execution_count": 181,
   "metadata": {
    "collapsed": false,
    "pycharm": {
     "name": "#%%\n"
    }
   },
   "outputs": [
    {
     "name": "stdout",
     "output_type": "stream",
     "text": [
      "[     189689        1417       -6492        5538       22244       -6563\n",
      "       50380       -1799      -17857      -28093      -42612      -65035\n",
      "      -99758     -152828     -232112     -347245     -509603     -732291\n",
      "    -1030155    -1419787    -1919541    -2549553    -3331757    -4289910\n",
      "    -5449614    -6838343    -8485470   -10422302   -12682106   -15300151\n",
      "   -18313737   -21762241   -25687153   -30132119   -35142990   -40767864\n",
      "   -47057141   -54063569   -61842304   -70450963   -79949685   -90401193\n",
      "  -101870861  -114426778  -128139825  -143083744  -159335222  -176973966\n",
      "  -196082797  -216747730  -239058076  -263106534  -288989295  -316806150\n",
      "  -346660601  -378659976  -412915554  -449542687  -488660940  -530394225\n",
      "  -574870944  -622224146  -672591678  -726116354  -782946124  -843234251\n",
      "  -907139500  -974826330 -1046465094 -1122232249 -1202310577 -1286889410\n",
      " -1376164864 -1470340089 -1569625519 -1674239141 -1784406766 -1900362322\n",
      " -2022348140 -2150615273 -2285423806 -2427043196 -2575752607 -2731841273\n",
      " -2895608862 -3067365862 -3247433977 -3436146533 -3633848909 -3840898972\n",
      " -4057667532 -4284538815 -4521910948 -4770196465 -5029822821 -5301232939\n",
      " -5584885757 -5881256807 -6190838810 -6514142282 -9771219536           0]\n"
     ]
    }
   ],
   "source": [
    "while True:\n",
    "    for i, x_i in enumerate(x):\n",
    "        A_prime[i] = A_lambdas[i](y[i-1], y[i], y[i+1])\n",
    "        B_prime[i] = B_lambdas[i](y[i-1], y[i], y[i+1])\n",
    "        C_prime[i] = C_lambdas[i](y[i-1], y[i], y[i+1])\n",
    "        D_prime[i] = D_lambdas[i](y[i-1], y[i], y[i+1])\n",
    "\n",
    "    eta = np.zeros_like(x)\n",
    "    xi = np.zeros_like(x)\n",
    "    delta_y = np.zeros_like(y)\n",
    "\n",
    "    for i in range(1, n+1):\n",
    "        xi[i] = C_prime[i-1] / (B_prime[i-1] - A_prime[i-1] * xi[i-1])\n",
    "        eta[i] = (A_prime[i-1] * eta[-1] + D_prime[i-1]) / (B_prime[i-1] - A_prime[i-1] * xi[i-1])\n",
    "\n",
    "    for i in reversed(range(0, n+1)):\n",
    "        if i == n:\n",
    "            delta_y[i] = (A_prime[n] * eta[n] + D_prime[n]) / (B_prime[n] - A_prime[n] * xi[n])\n",
    "        else:\n",
    "            delta_y[i] = xi[i+1] * delta_y[i+1] + eta[i+1]\n",
    "\n",
    "    for i in range(1, n):\n",
    "        y[i] = y[i-1] + delta_y[i]\n",
    "\n",
    "    m = np.argmax(abs(delta_y / y))\n",
    "    print(delta_y)\n",
    "    break"
   ]
  },
  {
   "cell_type": "code",
   "execution_count": 182,
   "metadata": {
    "collapsed": false,
    "pycharm": {
     "name": "#%%\n"
    }
   },
   "outputs": [
    {
     "ename": "NameError",
     "evalue": "name 'y_final' is not defined",
     "output_type": "error",
     "traceback": [
      "\u001b[0;31m---------------------------------------------------------------------------\u001b[0m",
      "\u001b[0;31mNameError\u001b[0m                                 Traceback (most recent call last)",
      "\u001b[0;32m/tmp/ipykernel_293162/3090414925.py\u001b[0m in \u001b[0;36m<module>\u001b[0;34m\u001b[0m\n\u001b[1;32m      1\u001b[0m \u001b[0;32mfor\u001b[0m \u001b[0mi\u001b[0m \u001b[0;32min\u001b[0m \u001b[0mrange\u001b[0m\u001b[0;34m(\u001b[0m\u001b[0;36m1\u001b[0m\u001b[0;34m,\u001b[0m \u001b[0mn\u001b[0m\u001b[0;34m)\u001b[0m\u001b[0;34m:\u001b[0m\u001b[0;34m\u001b[0m\u001b[0;34m\u001b[0m\u001b[0m\n\u001b[0;32m----> 2\u001b[0;31m     \u001b[0my_final\u001b[0m\u001b[0;34m[\u001b[0m\u001b[0mi\u001b[0m\u001b[0;34m]\u001b[0m \u001b[0;34m=\u001b[0m \u001b[0my_final\u001b[0m\u001b[0;34m[\u001b[0m\u001b[0mi\u001b[0m\u001b[0;34m-\u001b[0m\u001b[0;36m1\u001b[0m\u001b[0;34m]\u001b[0m \u001b[0;34m+\u001b[0m \u001b[0mdelta_y\u001b[0m\u001b[0;34m[\u001b[0m\u001b[0mi\u001b[0m\u001b[0;34m]\u001b[0m\u001b[0;34m\u001b[0m\u001b[0;34m\u001b[0m\u001b[0m\n\u001b[0m",
      "\u001b[0;31mNameError\u001b[0m: name 'y_final' is not defined"
     ]
    }
   ],
   "source": [
    "\n",
    "for i in range(1, n):\n",
    "    y_final[i] = y_final[i-1] + delta_y[i]"
   ]
  },
  {
   "cell_type": "code",
   "execution_count": 183,
   "metadata": {
    "collapsed": false,
    "pycharm": {
     "name": "#%%\n"
    }
   },
   "outputs": [
    {
     "data": {
      "text/plain": [
       "[<matplotlib.lines.Line2D at 0x7f7b16608100>]"
      ]
     },
     "execution_count": 183,
     "metadata": {},
     "output_type": "execute_result"
    },
    {
     "data": {
      "image/png": "[encoded data removed]",
      "text/plain": [
       "<Figure size 432x288 with 1 Axes>"
      ]
     },
     "metadata": {
      "needs_background": "light"
     },
     "output_type": "display_data"
    }
   ],
   "source": [
    "plt.plot(delta_y)"
   ]
  },
  {
   "cell_type": "code",
   "execution_count": 168,
   "metadata": {
    "collapsed": false,
    "pycharm": {
     "name": "#%%\n"
    }
   },
   "outputs": [
    {
     "data": {
      "text/plain": [
       "array([   179815,   -165313,      -761,     22174,      5739,     -1757,\n",
       "          -18443,    -47837,   -105896,   -226873,   -456044,   -796831,\n",
       "        -1059435,  -1059425,  -1061867,  -1065463,  -1070223,  -1076148,\n",
       "        -1083273,  -1091648,  -1101318,  -1112322,  -1124687,  -1138420,\n",
       "        -1153520,  -1169970,  -1187751,  -1206841,  -1227222,  -1248880,\n",
       "        -1271811,  -1296019,  -1321518,  -1348329,  -1376483,  -1406018,\n",
       "        -1436977,  -1469412,  -1503381,  -1538944,  -1576170,  -1615131,\n",
       "        -1655901,  -1698563,  -1743199,  -1789897,  -1838750,  -1889851,\n",
       "        -1943299,  -1999196,  -2057645,  -2118755,  -2182638,  -2249406,\n",
       "        -2319179,  -2392075,  -2468218,  -2547736,  -2630757,  -2717415,\n",
       "        -2807846,  -2902189,  -3000586,  -3103183,  -3210129,  -3321577,\n",
       "        -3437681,  -3558601,  -3684499,  -3815542,  -3951898,  -4093740,\n",
       "        -4241246,  -4394596,  -4553974,  -4719568,  -4891570,  -5070177,\n",
       "        -5255587,  -5448007,  -5647644,  -5854711,  -6069426,  -6292010,\n",
       "        -6522691,  -6761700,  -7009273,  -7265653,  -7531084,  -7805820,\n",
       "        -8090119,  -8384242,  -8688459,  -9003044,  -9328278,  -9664445,\n",
       "       -10011833, -10370727, -10741399, -11124082, -16692236,         0])"
      ]
     },
     "execution_count": 168,
     "metadata": {},
     "output_type": "execute_result"
    }
   ],
   "source": [
    "delta_y"
   ]
  },
  {
   "cell_type": "code",
   "execution_count": 169,
   "metadata": {
    "collapsed": false,
    "pycharm": {
     "name": "#%%\n"
    }
   },
   "outputs": [
    {
     "data": {
      "text/plain": [
       "50"
      ]
     },
     "execution_count": 169,
     "metadata": {},
     "output_type": "execute_result"
    }
   ],
   "source": [
    "F_0"
   ]
  },
  {
   "cell_type": "code",
   "execution_count": null,
   "metadata": {
    "collapsed": false,
    "pycharm": {
     "name": "#%%\n"
    }
   },
   "outputs": [],
   "source": []
  },
  {
   "cell_type": "code",
   "execution_count": null,
   "metadata": {},
   "outputs": [],
   "source": []
  }
 ],
 "metadata": {
  "interpreter": {
   "hash": "953e5bbe46159d276bd0065b227d4330397ae0881278e417dffeb00586fcd0dc"
  },
  "kernelspec": {
   "display_name": "Python 3.10.0 ('algo_comp')",
   "language": "python",
   "name": "python3"
  },
  "language_info": {
   "codemirror_mode": {
    "name": "ipython",
    "version": 3
   },
   "file_extension": ".py",
   "mimetype": "text/x-python",
   "name": "python",
   "nbconvert_exporter": "python",
   "pygments_lexer": "ipython3",
   "version": "3.10.0"
  }
 },
 "nbformat": 4,
 "nbformat_minor": 0
}
