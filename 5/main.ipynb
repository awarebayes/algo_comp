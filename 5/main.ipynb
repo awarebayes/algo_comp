{
 "cells": [
  {
   "cell_type": "code",
   "execution_count": 38,
   "metadata": {
    "collapsed": true
   },
   "outputs": [],
   "source": [
    "from sympy import symbols\n",
    "import sympy as sp\n",
    "import numpy as np\n",
    "from sympy.utilities.lambdify import lambdify, lambdastr\n",
    "from matplotlib import pyplot as plt\n",
    "from functools import cache"
   ]
  },
  {
   "cell_type": "code",
   "execution_count": 44,
   "metadata": {
    "collapsed": false,
    "pycharm": {
     "name": "#%%\n"
    }
   },
   "outputs": [],
   "source": [
    "a_1 = 0.0134\n",
    "b_1 = 1\n",
    "c_1 = 4.35 * 10e-4\n",
    "m_1 = 1\n",
    "alpha_0 = 1.94 * 10e-2\n",
    "delta = 1.5 * 10e3\n",
    "gamma = 0.2 * 10e-2\n",
    "l = 10\n",
    "T_0 = 300\n",
    "R = 0.5\n",
    "F_0 = 50\n",
    "X = sp.Symbol('x')\n",
    "T = sp.Function('T')(X)\n",
    "y_i_prev, y_i, y_i_next = symbols('y_im1, y_i, y_ip1')"
   ]
  },
  {
   "cell_type": "code",
   "execution_count": 45,
   "metadata": {
    "collapsed": false,
    "pycharm": {
     "name": "#%%\n"
    }
   },
   "outputs": [],
   "source": [
    "alpha = alpha_0 * (y_i / delta - 1) ** 4 + gamma\n",
    "p = 2 / R * alpha\n",
    "f = 2 * T_0 / R * alpha\n",
    "k = a_1 * (b_1 + c_1 * y_i ** m_1)\n",
    "k_prev = k.subs(y_i, y_i_prev)\n",
    "k_next = k.subs(y_i, y_i_next)"
   ]
  },
  {
   "cell_type": "code",
   "execution_count": 46,
   "metadata": {
    "collapsed": false,
    "pycharm": {
     "name": "#%%\n"
    }
   },
   "outputs": [
    {
     "data": {
      "text/plain": [
       "(0.194*(6.66666666666667e-5*y_i - 1)**4 + 0.02,\n",
       " 0.776*(6.66666666666667e-5*y_i - 1)**4 + 0.08,\n",
       " 232.8*(6.66666666666667e-5*y_i - 1)**4 + 24.0,\n",
       " 5.829e-5*y_i + 0.0134)"
      ]
     },
     "execution_count": 46,
     "metadata": {},
     "output_type": "execute_result"
    }
   ],
   "source": [
    "alpha, p, f, k"
   ]
  },
  {
   "cell_type": "code",
   "execution_count": 47,
   "metadata": {
    "collapsed": false,
    "pycharm": {
     "name": "#%%\n"
    }
   },
   "outputs": [
    {
     "data": {
      "text/latex": [
       "$\\displaystyle 5.829 \\cdot 10^{-5} y_{im1} + 0.0134$"
      ],
      "text/plain": [
       "5.829e-5*y_im1 + 0.0134"
      ]
     },
     "execution_count": 47,
     "metadata": {},
     "output_type": "execute_result"
    }
   ],
   "source": [
    "k_prev"
   ]
  },
  {
   "cell_type": "code",
   "execution_count": 48,
   "metadata": {
    "collapsed": false,
    "pycharm": {
     "name": "#%%\n"
    }
   },
   "outputs": [],
   "source": [
    "n = 100\n",
    "h = l / n\n",
    "x = np.linspace(0, l, n+1, endpoint=True)"
   ]
  },
  {
   "cell_type": "code",
   "execution_count": 49,
   "metadata": {
    "collapsed": false,
    "pycharm": {
     "name": "#%%\n"
    }
   },
   "outputs": [],
   "source": [
    "def eval_sp(func, i):\n",
    "    func = func.subs(y_i, y[i]).subs(y_i_prev, y[i-1])\n",
    "    if i < n:\n",
    "        func = func.subs(y_i_next, y[i+1])\n",
    "    return func"
   ]
  },
  {
   "cell_type": "code",
   "execution_count": 50,
   "metadata": {
    "collapsed": false,
    "pycharm": {
     "name": "#%%\n"
    }
   },
   "outputs": [],
   "source": [
    "def get_a_i(i):\n",
    "    if i == 0:\n",
    "        return sp.Float(0)\n",
    "    return (k_prev + k) / 2\n",
    "\n",
    "def get_b_i(i):\n",
    "    if i == 0:\n",
    "        return (k + k_next) / 2\n",
    "    if i == n:\n",
    "        return (k_prev + k) / 2 + p * h ** 2 + alpha * h\n",
    "    return (k_prev + k) / 2 + (k + k_next) / 2 + p * h ** 2\n",
    "\n",
    "def get_c_i(i):\n",
    "    if i == 0:\n",
    "        return (k + k_next) / 2\n",
    "    if i == n:\n",
    "        return sp.Float(0)\n",
    "    return (k + k_next) / 2\n",
    "\n",
    "def get_d_i(i):\n",
    "    if i == 0:\n",
    "        return f * h ** 2 + F_0 * h\n",
    "    if i == n:\n",
    "        return f * h ** 2 + alpha * T_0 * h\n",
    "    return f * h ** 2"
   ]
  },
  {
   "cell_type": "code",
   "execution_count": 51,
   "metadata": {
    "collapsed": false,
    "pycharm": {
     "name": "#%%\n"
    }
   },
   "outputs": [],
   "source": [
    "y = np.full(n+2, T_0)\n",
    "A_prime = np.zeros_like(x)\n",
    "B_prime = np.zeros_like(x)\n",
    "C_prime = np.zeros_like(x)\n",
    "D_prime = np.zeros_like(x)\n",
    "A_lambdas = [None for i in range(n+1)]\n",
    "B_lambdas = [None for i in range(n+1)]\n",
    "C_lambdas = [None for i in range(n+1)]\n",
    "D_lambdas = [None for i in range(n+1)]"
   ]
  },
  {
   "cell_type": "code",
   "execution_count": 52,
   "metadata": {},
   "outputs": [],
   "source": [
    "def my_lambdify(func):\n",
    "    return lambdify([y_i_prev, y_i, y_i_next], func)"
   ]
  },
  {
   "cell_type": "code",
   "execution_count": 56,
   "metadata": {
    "collapsed": false,
    "pycharm": {
     "name": "#%%\n"
    }
   },
   "outputs": [],
   "source": [
    "for i, x_i in enumerate(x):\n",
    "    A_i = get_a_i(i)\n",
    "    B_i = get_b_i(i)\n",
    "    C_i = get_c_i(i)\n",
    "    D_i = get_d_i(i)\n",
    "    G_i = A_i * y_i_prev + B_i * y_i - C_i * y_i_next + D_i\n",
    "    # print(lambdastr([y_i_prev, y_i, y_i_next], sp.diff(G_i, y_i_next)))\n",
    "    A_lambdas[i] = my_lambdify(sp.diff(G_i, y_i_prev))\n",
    "    B_lambdas[i] = my_lambdify(-sp.diff(G_i, y_i))\n",
    "    C_lambdas[i] = my_lambdify(sp.diff(G_i, y_i_next))\n",
    "    D_lambdas[i] = my_lambdify(G_i)"
   ]
  },
  {
   "cell_type": "code",
   "execution_count": 58,
   "metadata": {
    "collapsed": false,
    "pycharm": {
     "name": "#%%\n"
    }
   },
   "outputs": [
    {
     "name": "stdout",
     "output_type": "stream",
     "text": [
      "[     0   -294   2378   -211    799    679   1074   1303   1577   1840\n",
      "   2106   2372   2638   2905   3173   3441   3710   3980   4250   4522\n",
      "   4794   5067   5342   5617   5893   6171   6450   6730   7012   7295\n",
      "   7580   7866   8153   8442   8733   9026   9321   9618   9917  10218\n",
      "  10521  10827  11135  11445  11758  12074  12393  12714  13039  13367\n",
      "  13698  14033  14371  14713  15059  15409  15763  16122  16485  16853\n",
      "  17226  17604  17987  18376  18771  19172  19579  19992  20413  20841\n",
      "  21276  21719  22170  22629  23098  23576  24063  24561  25069  25589\n",
      "  26120  26663  27219  27788  28372  28970  29584  30214  30861  31525\n",
      "  32207  32906  33618  34331  35019  35616  35966  35707  34010  29003\n",
      " -13190      0]\n"
     ]
    }
   ],
   "source": [
    "while True:\n",
    "    for i, x_i in enumerate(x):\n",
    "        A_prime[i] = A_lambdas[i](y[i-1], y[i], y[i+1])\n",
    "        B_prime[i] = B_lambdas[i](y[i-1], y[i], y[i+1])\n",
    "        C_prime[i] = C_lambdas[i](y[i-1], y[i], y[i+1])\n",
    "        D_prime[i] = D_lambdas[i](y[i-1], y[i], y[i+1])\n",
    "\n",
    "    eta = np.zeros_like(x)\n",
    "    xi = np.zeros_like(x)\n",
    "    delta_y = np.zeros_like(y)\n",
    "\n",
    "    for i in range(1, n+1):\n",
    "        xi[i] = C_prime[i-1] / (B_prime[i-1] - A_prime[i-1] * xi[i-1])\n",
    "        eta[i] = (A_prime[i-1] * eta[-1] + D_prime[i-1]) / (B_prime[i-1] - A_prime[i-1] * xi[i-1])\n",
    "\n",
    "    for i in reversed(range(1, n+1)):\n",
    "        if i == n:\n",
    "            delta_y[i] = (A_prime[n] * eta[n] + D_prime[n]) / (B_prime[n] - A_prime[n] * xi[n])\n",
    "        else:\n",
    "            delta_y[i] = xi[i+1] * delta_y[i+1] + eta[i+1]\n",
    "\n",
    "    for i in range(1, n):\n",
    "        y[i] = y[i-1] + delta_y[i]\n",
    "\n",
    "    m = np.argmax(abs(delta_y / y))\n",
    "    print(delta_y)\n",
    "    break"
   ]
  },
  {
   "cell_type": "code",
   "execution_count": null,
   "metadata": {
    "collapsed": false,
    "pycharm": {
     "name": "#%%\n"
    }
   },
   "outputs": [],
   "source": [
    "\n",
    "for i in range(1, n):\n",
    "    y_final[i] = y_final[i-1] + delta_y[i]"
   ]
  },
  {
   "cell_type": "code",
   "execution_count": null,
   "metadata": {
    "collapsed": false,
    "pycharm": {
     "name": "#%%\n"
    }
   },
   "outputs": [],
   "source": [
    "plt.plot(delta_y)"
   ]
  },
  {
   "cell_type": "code",
   "execution_count": null,
   "metadata": {
    "collapsed": false,
    "pycharm": {
     "name": "#%%\n"
    }
   },
   "outputs": [],
   "source": [
    "delta_y"
   ]
  },
  {
   "cell_type": "code",
   "execution_count": null,
   "metadata": {
    "collapsed": false,
    "pycharm": {
     "name": "#%%\n"
    }
   },
   "outputs": [],
   "source": [
    "F_0"
   ]
  },
  {
   "cell_type": "code",
   "execution_count": null,
   "metadata": {
    "collapsed": false,
    "pycharm": {
     "name": "#%%\n"
    }
   },
   "outputs": [],
   "source": []
  }
 ],
 "metadata": {
  "interpreter": {
   "hash": "953e5bbe46159d276bd0065b227d4330397ae0881278e417dffeb00586fcd0dc"
  },
  "kernelspec": {
   "display_name": "Python 3.10.0 ('algo_comp')",
   "language": "python",
   "name": "python3"
  },
  "language_info": {
   "codemirror_mode": {
    "name": "ipython",
    "version": 3
   },
   "file_extension": ".py",
   "mimetype": "text/x-python",
   "name": "python",
   "nbconvert_exporter": "python",
   "pygments_lexer": "ipython3",
   "version": "3.10.0"
  }
 },
 "nbformat": 4,
 "nbformat_minor": 0
}
