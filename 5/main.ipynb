{
 "cells": [
  {
   "cell_type": "code",
   "execution_count": 104,
   "metadata": {
    "collapsed": true
   },
   "outputs": [],
   "source": [
    "from sympy import symbols\n",
    "import sympy as sp\n",
    "import numpy as np\n",
    "from sympy.utilities.lambdify import lambdify, lambdastr\n",
    "from matplotlib import pyplot as plt\n",
    "from functools import cache"
   ]
  },
  {
   "cell_type": "code",
   "execution_count": 105,
   "metadata": {
    "collapsed": false,
    "pycharm": {
     "name": "#%%\n"
    }
   },
   "outputs": [],
   "source": [
    "a_1 = 0.0134\n",
    "b_1 = 1\n",
    "c_1 = 4.35 * 10e-4\n",
    "m_1 = 1\n",
    "alpha_0 = 1.94 * 10e-2\n",
    "delta = 1.5 * 10e3\n",
    "gamma = 0.2 * 10e-2\n",
    "l = 10\n",
    "T_0 = 300\n",
    "R = 0.5\n",
    "F_0 = 50\n",
    "X = sp.Symbol('x')\n",
    "T = sp.Function('T')(X)\n",
    "y_i_prev, y_i, y_i_next = symbols('y_p, y_i, y_n')"
   ]
  },
  {
   "cell_type": "code",
   "execution_count": 106,
   "metadata": {
    "collapsed": false,
    "pycharm": {
     "name": "#%%\n"
    }
   },
   "outputs": [],
   "source": [
    "alpha = alpha_0 * (y_i / delta - 1) ** 4 + gamma\n",
    "p = 2 / R * alpha\n",
    "f = 2 * T_0 / R * alpha\n",
    "k = a_1 * (b_1 + c_1 * y_i ** m_1)\n",
    "k_prev = k.subs(y_i, y_i_prev)\n",
    "k_next = k.subs(y_i, y_i_next)"
   ]
  },
  {
   "cell_type": "code",
   "execution_count": 107,
   "metadata": {
    "collapsed": false,
    "pycharm": {
     "name": "#%%\n"
    }
   },
   "outputs": [
    {
     "data": {
      "text/plain": [
       "(0.194*(6.66666666666667e-5*y_i - 1)**4 + 0.02,\n",
       " 0.776*(6.66666666666667e-5*y_i - 1)**4 + 0.08,\n",
       " 232.8*(6.66666666666667e-5*y_i - 1)**4 + 24.0,\n",
       " 5.829e-5*y_i + 0.0134)"
      ]
     },
     "execution_count": 107,
     "metadata": {},
     "output_type": "execute_result"
    }
   ],
   "source": [
    "alpha, p, f, k"
   ]
  },
  {
   "cell_type": "code",
   "execution_count": 108,
   "metadata": {
    "collapsed": false,
    "pycharm": {
     "name": "#%%\n"
    }
   },
   "outputs": [],
   "source": [
    "n = 100\n",
    "h = l / n\n",
    "x = np.linspace(0, l, n+1, endpoint=True)"
   ]
  },
  {
   "cell_type": "code",
   "execution_count": 109,
   "metadata": {
    "collapsed": false,
    "pycharm": {
     "name": "#%%\n"
    }
   },
   "outputs": [],
   "source": [
    "def get_a_i(i):\n",
    "    if i == 0:\n",
    "        return sp.Float(0)\n",
    "    return (k_prev + k) / 2\n",
    "\n",
    "def get_b_i(i):\n",
    "    if i == 0:\n",
    "        return (k + k_next) / 2\n",
    "    if i == n:\n",
    "        return (k_prev + k) / 2 + p * h ** 2 + alpha * h\n",
    "    return (k_prev + k) / 2 + (k + k_next) / 2 + p * h ** 2\n",
    "\n",
    "def get_c_i(i):\n",
    "    if i == 0:\n",
    "        return (k + k_next) / 2\n",
    "    if i == n:\n",
    "        return sp.Float(0)\n",
    "    return (k + k_next) / 2\n",
    "\n",
    "def get_d_i(i):\n",
    "    if i == 0:\n",
    "        return f * h ** 2 + F_0 * h\n",
    "    if i == n:\n",
    "        return f * h ** 2 + alpha * T_0 * h\n",
    "    return f * h ** 2"
   ]
  },
  {
   "cell_type": "code",
   "execution_count": 110,
   "metadata": {
    "collapsed": false,
    "pycharm": {
     "name": "#%%\n"
    }
   },
   "outputs": [],
   "source": [
    "y = np.full(n+2, T_0)\n",
    "A_prime = np.zeros_like(x)\n",
    "B_prime = np.zeros_like(x)\n",
    "C_prime = np.zeros_like(x)\n",
    "D_prime = np.zeros_like(x)\n",
    "A_lambdas = [None for i in range(n+1)]\n",
    "B_lambdas = [None for i in range(n+1)]\n",
    "C_lambdas = [None for i in range(n+1)]\n",
    "D_lambdas = [None for i in range(n+1)]"
   ]
  },
  {
   "cell_type": "code",
   "execution_count": 111,
   "metadata": {},
   "outputs": [],
   "source": [
    "def my_lambdify(func):\n",
    "    return lambdify([y_i_prev, y_i, y_i_next], func)"
   ]
  },
  {
   "cell_type": "code",
   "execution_count": 112,
   "metadata": {
    "collapsed": false,
    "pycharm": {
     "name": "#%%\n"
    }
   },
   "outputs": [],
   "source": [
    "for i, x_i in enumerate(x):\n",
    "    A_i = get_a_i(i)\n",
    "    B_i = get_b_i(i)\n",
    "    C_i = get_c_i(i)\n",
    "    D_i = get_d_i(i)\n",
    "    G_i = A_i * y_i_prev + B_i * y_i - C_i * y_i_next + D_i\n",
    "    # print(lambdastr([y_i_prev, y_i, y_i_next], sp.diff(G_i, y_i_next)))\n",
    "    A_lambdas[i] = my_lambdify(sp.diff(G_i, y_i_prev))\n",
    "    B_lambdas[i] = my_lambdify(-sp.diff(G_i, y_i))\n",
    "    C_lambdas[i] = my_lambdify(sp.diff(G_i, y_i_next))\n",
    "    D_lambdas[i] = my_lambdify(G_i)"
   ]
  },
  {
   "cell_type": "code",
   "execution_count": 113,
   "metadata": {
    "collapsed": false,
    "pycharm": {
     "name": "#%%\n"
    }
   },
   "outputs": [
    {
     "name": "stdout",
     "output_type": "stream",
     "text": [
      "[   0 -250 -345 -331 -333 -332 -332 -332 -332 -332 -332 -332 -332 -332\n",
      " -332 -332 -332 -332 -332 -332 -332 -332 -332 -332 -332 -332 -332 -332\n",
      " -332 -332 -332 -332 -332 -332 -332 -332 -332 -332 -332 -332 -332 -332\n",
      " -332 -332 -332 -332 -332 -332 -332 -332 -332 -332 -332 -332 -332 -332\n",
      " -332 -332 -332 -332 -332 -332 -332 -332 -332 -332 -332 -332 -332 -332\n",
      " -332 -332 -332 -332 -332 -332 -332 -332 -332 -332 -332 -332 -332 -332\n",
      " -332 -332 -332 -332 -332 -332 -332 -332 -332 -332 -332 -332 -332 -331\n",
      " -327 -315 -276    0]\n"
     ]
    }
   ],
   "source": [
    "while True:\n",
    "    for i, x_i in enumerate(x):\n",
    "        A_prime[i] = A_lambdas[i](y[i-1], y[i], y[i+1])\n",
    "        B_prime[i] = B_lambdas[i](y[i-1], y[i], y[i+1])\n",
    "        C_prime[i] = C_lambdas[i](y[i-1], y[i], y[i+1])\n",
    "        D_prime[i] = D_lambdas[i](y[i-1], y[i], y[i+1])\n",
    "\n",
    "    eta = np.zeros_like(x)\n",
    "    xi = np.zeros_like(x)\n",
    "    delta_y = np.zeros_like(y)\n",
    "\n",
    "    for i in range(1, n+1):\n",
    "        xi[i] = C_prime[i-1] / (B_prime[i-1] - A_prime[i-1] * xi[i-1])\n",
    "        eta[i] = (A_prime[i-1] * eta[-1] + D_prime[i-1]) / (B_prime[i-1] - A_prime[i-1] * xi[i-1])\n",
    "\n",
    "    for i in reversed(range(1, n+1)):\n",
    "        if i == n:\n",
    "            delta_y[i] = (A_prime[n] * eta[n] + D_prime[n]) / (B_prime[n] - A_prime[n] * xi[n])\n",
    "        else:\n",
    "            delta_y[i] = xi[i+1] * delta_y[i+1] + eta[i+1]\n",
    "\n",
    "    for i in range(1, n):\n",
    "        y[i] = y[i-1] + delta_y[i]\n",
    "\n",
    "    m = np.argmax(abs(delta_y / y))\n",
    "    print(delta_y)\n",
    "    break"
   ]
  },
  {
   "cell_type": "code",
   "execution_count": 114,
   "metadata": {
    "collapsed": false,
    "pycharm": {
     "name": "#%%\n"
    }
   },
   "outputs": [
    {
     "ename": "NameError",
     "evalue": "name 'y_final' is not defined",
     "output_type": "error",
     "traceback": [
      "\u001b[0;31m---------------------------------------------------------------------------\u001b[0m",
      "\u001b[0;31mNameError\u001b[0m                                 Traceback (most recent call last)",
      "\u001b[0;32m/tmp/ipykernel_293162/3090414925.py\u001b[0m in \u001b[0;36m<module>\u001b[0;34m\u001b[0m\n\u001b[1;32m      1\u001b[0m \u001b[0;32mfor\u001b[0m \u001b[0mi\u001b[0m \u001b[0;32min\u001b[0m \u001b[0mrange\u001b[0m\u001b[0;34m(\u001b[0m\u001b[0;36m1\u001b[0m\u001b[0;34m,\u001b[0m \u001b[0mn\u001b[0m\u001b[0;34m)\u001b[0m\u001b[0;34m:\u001b[0m\u001b[0;34m\u001b[0m\u001b[0;34m\u001b[0m\u001b[0m\n\u001b[0;32m----> 2\u001b[0;31m     \u001b[0my_final\u001b[0m\u001b[0;34m[\u001b[0m\u001b[0mi\u001b[0m\u001b[0;34m]\u001b[0m \u001b[0;34m=\u001b[0m \u001b[0my_final\u001b[0m\u001b[0;34m[\u001b[0m\u001b[0mi\u001b[0m\u001b[0;34m-\u001b[0m\u001b[0;36m1\u001b[0m\u001b[0;34m]\u001b[0m \u001b[0;34m+\u001b[0m \u001b[0mdelta_y\u001b[0m\u001b[0;34m[\u001b[0m\u001b[0mi\u001b[0m\u001b[0;34m]\u001b[0m\u001b[0;34m\u001b[0m\u001b[0;34m\u001b[0m\u001b[0m\n\u001b[0m",
      "\u001b[0;31mNameError\u001b[0m: name 'y_final' is not defined"
     ]
    }
   ],
   "source": [
    "\n",
    "for i in range(1, n):\n",
    "    y_final[i] = y_final[i-1] + delta_y[i]"
   ]
  },
  {
   "cell_type": "code",
   "execution_count": null,
   "metadata": {
    "collapsed": false,
    "pycharm": {
     "name": "#%%\n"
    }
   },
   "outputs": [],
   "source": [
    "plt.plot(delta_y)"
   ]
  },
  {
   "cell_type": "code",
   "execution_count": null,
   "metadata": {
    "collapsed": false,
    "pycharm": {
     "name": "#%%\n"
    }
   },
   "outputs": [],
   "source": [
    "delta_y"
   ]
  },
  {
   "cell_type": "code",
   "execution_count": null,
   "metadata": {
    "collapsed": false,
    "pycharm": {
     "name": "#%%\n"
    }
   },
   "outputs": [],
   "source": [
    "F_0"
   ]
  },
  {
   "cell_type": "code",
   "execution_count": null,
   "metadata": {
    "collapsed": false,
    "pycharm": {
     "name": "#%%\n"
    }
   },
   "outputs": [],
   "source": []
  }
 ],
 "metadata": {
  "interpreter": {
   "hash": "953e5bbe46159d276bd0065b227d4330397ae0881278e417dffeb00586fcd0dc"
  },
  "kernelspec": {
   "display_name": "Python 3.10.0 ('algo_comp')",
   "language": "python",
   "name": "python3"
  },
  "language_info": {
   "codemirror_mode": {
    "name": "ipython",
    "version": 3
   },
   "file_extension": ".py",
   "mimetype": "text/x-python",
   "name": "python",
   "nbconvert_exporter": "python",
   "pygments_lexer": "ipython3",
   "version": "3.10.0"
  }
 },
 "nbformat": 4,
 "nbformat_minor": 0
}
